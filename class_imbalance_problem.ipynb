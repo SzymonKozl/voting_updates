{
 "cells": [
  {
   "metadata": {},
   "cell_type": "raw",
   "source": "I will train simple cnn on unbalanced variant of MNIST dataset and compare it with finetuning on complete one",
   "id": "d3c268ddfb72387b"
  },
  {
   "metadata": {
    "collapsed": true,
    "ExecuteTime": {
     "end_time": "2025-07-16T19:24:09.709629Z",
     "start_time": "2025-07-16T19:24:09.704259Z"
    }
   },
   "cell_type": "code",
   "source": [
    "import torch\n",
    "import torch.nn as nn\n",
    "import torch.optim as optim\n",
    "from torch.utils.data import Subset, DataLoader\n",
    "import torchvision\n",
    "import torchvision.transforms as transforms\n",
    "import numpy as np\n",
    "import tqdm\n",
    "from sklearn.metrics import classification_report\n",
    "import pandas as pd"
   ],
   "id": "initial_id",
   "outputs": [],
   "execution_count": 88
  },
  {
   "metadata": {
    "ExecuteTime": {
     "end_time": "2025-07-16T17:32:23.706887Z",
     "start_time": "2025-07-16T17:32:23.704263Z"
    }
   },
   "cell_type": "code",
   "source": [
    "device = torch.device(\"cuda\" if torch.cuda.is_available() else \"cpu\")\n",
    "\n",
    "num_epochs = 15\n",
    "batch_size = 128\n",
    "learning_rate = 0.001"
   ],
   "id": "65b3570f9a0545eb",
   "outputs": [],
   "execution_count": 54
  },
  {
   "metadata": {
    "ExecuteTime": {
     "end_time": "2025-07-16T17:29:02.479651Z",
     "start_time": "2025-07-16T17:29:02.450117Z"
    }
   },
   "cell_type": "code",
   "source": [
    "transform = transforms.Compose([\n",
    "    transforms.ToTensor(),\n",
    "    transforms.Normalize((0.1307,), (0.3081,))  # mean and std of MNIST\n",
    "])\n",
    "\n",
    "train_dataset = torchvision.datasets.MNIST(root=\"./data\", train=True, transform=transform, download=True)\n",
    "test_dataset = torchvision.datasets.MNIST(root=\"./data\", train=False, transform=transform)"
   ],
   "id": "847c82b9bab257f3",
   "outputs": [],
   "execution_count": 48
  },
  {
   "metadata": {
    "ExecuteTime": {
     "end_time": "2025-07-16T17:15:40.427202Z",
     "start_time": "2025-07-16T17:15:40.419224Z"
    }
   },
   "cell_type": "code",
   "source": "np.unique(train_dataset.targets, return_counts=True)",
   "id": "e64a1ba440e50fa6",
   "outputs": [
    {
     "data": {
      "text/plain": [
       "(array([0, 1, 2, 3, 4, 5, 6, 7, 8, 9]),\n",
       " array([5923, 6742, 5958, 6131, 5842, 5421, 5918, 6265, 5851, 5949]))"
      ]
     },
     "execution_count": 27,
     "metadata": {},
     "output_type": "execute_result"
    }
   ],
   "execution_count": 27
  },
  {
   "metadata": {},
   "cell_type": "markdown",
   "source": "As we see, initially, the dataset is more or less balanced. We will take 10% of each classes to the new balanced dataset. The unbalanced dataset will consist of 100% samples from type 0, and 10% of samples from other types",
   "id": "221fc12e3fb34240"
  },
  {
   "metadata": {
    "ExecuteTime": {
     "end_time": "2025-07-16T19:10:50.754407Z",
     "start_time": "2025-07-16T19:10:50.745988Z"
    }
   },
   "cell_type": "code",
   "source": [
    "indices = [np.where(np.array(train_dataset.targets) == 0)[0][:5500:20]]\n",
    "indices_balanced = [np.where(np.array(train_dataset.targets) == 0)[0][:5000:100]]\n",
    "for i in range(1, 10):\n",
    "    indices.append(np.where(np.array(train_dataset.targets) == i)[0][:5000:200])\n",
    "    indices_balanced.append(np.where(np.array(train_dataset.targets) == i)[0][:5000:100])\n",
    "indices = np.concatenate(indices)\n",
    "indices_balanced = np.concatenate(indices_balanced)\n",
    "train_dataset_balanced = Subset(train_dataset, indices_balanced)\n",
    "train_dataset_imbalanced = Subset(train_dataset, indices)\n",
    "len(train_dataset_balanced), len(train_dataset_imbalanced)"
   ],
   "id": "d0a4449b0c618f84",
   "outputs": [
    {
     "name": "stderr",
     "output_type": "stream",
     "text": [
      "/tmp/ipykernel_19102/3866804858.py:1: DeprecationWarning: __array__ implementation doesn't accept a copy keyword, so passing copy=False failed. __array__ must implement 'dtype' and 'copy' keyword arguments. To learn more, see the migration guide https://numpy.org/devdocs/numpy_2_0_migration_guide.html#adapting-to-changes-in-the-copy-keyword\n",
      "  indices = [np.where(np.array(train_dataset.targets) == 0)[0][:5500:20]]\n",
      "/tmp/ipykernel_19102/3866804858.py:2: DeprecationWarning: __array__ implementation doesn't accept a copy keyword, so passing copy=False failed. __array__ must implement 'dtype' and 'copy' keyword arguments. To learn more, see the migration guide https://numpy.org/devdocs/numpy_2_0_migration_guide.html#adapting-to-changes-in-the-copy-keyword\n",
      "  indices_balanced = [np.where(np.array(train_dataset.targets) == 0)[0][:5000:100]]\n",
      "/tmp/ipykernel_19102/3866804858.py:4: DeprecationWarning: __array__ implementation doesn't accept a copy keyword, so passing copy=False failed. __array__ must implement 'dtype' and 'copy' keyword arguments. To learn more, see the migration guide https://numpy.org/devdocs/numpy_2_0_migration_guide.html#adapting-to-changes-in-the-copy-keyword\n",
      "  indices.append(np.where(np.array(train_dataset.targets) == i)[0][:5000:200])\n",
      "/tmp/ipykernel_19102/3866804858.py:5: DeprecationWarning: __array__ implementation doesn't accept a copy keyword, so passing copy=False failed. __array__ must implement 'dtype' and 'copy' keyword arguments. To learn more, see the migration guide https://numpy.org/devdocs/numpy_2_0_migration_guide.html#adapting-to-changes-in-the-copy-keyword\n",
      "  indices_balanced.append(np.where(np.array(train_dataset.targets) == i)[0][:5000:100])\n"
     ]
    },
    {
     "data": {
      "text/plain": [
       "(500, 500)"
      ]
     },
     "execution_count": 79,
     "metadata": {},
     "output_type": "execute_result"
    }
   ],
   "execution_count": 79
  },
  {
   "metadata": {
    "ExecuteTime": {
     "end_time": "2025-07-16T19:23:05.412757Z",
     "start_time": "2025-07-16T19:23:05.404835Z"
    }
   },
   "cell_type": "code",
   "source": [
    "class NeuralNet(nn.Module):\n",
    "    def __init__(self):\n",
    "        super(NeuralNet, self).__init__()\n",
    "        self.fc1 = nn.Linear(28*28, 128)\n",
    "        self.relu = nn.ReLU()\n",
    "        self.fc2 = nn.Linear(128, 64)\n",
    "        self.fc3 = nn.Linear(64, 10)\n",
    "\n",
    "    def forward(self, x):\n",
    "        x = x.view(-1, 28*28)  # flatten\n",
    "        x = self.relu(self.fc1(x))\n",
    "        x = self.relu(self.fc2(x))\n",
    "        x = self.fc3(x)\n",
    "        return x\n",
    "\n",
    "\n",
    "def get_net():\n",
    "    return NeuralNet().to(device)\n",
    "\n",
    "\n",
    "def train(net: NeuralNet, train_loader, epochs):\n",
    "        # Loss and optimizer\n",
    "    criterion = nn.CrossEntropyLoss()\n",
    "    optimizer = optim.Adam(net.parameters(), lr=learning_rate)\n",
    "\n",
    "    # Training loop\n",
    "    for epoch in tqdm.tqdm(range(epochs)):\n",
    "        net.train()\n",
    "        running_loss = 0.0\n",
    "        for images, labels in train_loader:\n",
    "            images, labels = images.to(device), labels.to(device)\n",
    "\n",
    "            # Forward pass\n",
    "            outputs = net(images)\n",
    "            loss = criterion(outputs, labels)\n",
    "\n",
    "            # Backward and optimize\n",
    "            optimizer.zero_grad()\n",
    "            loss.backward()\n",
    "            optimizer.step()\n",
    "\n",
    "            running_loss += loss.item()\n",
    "\n",
    "    return net\n",
    "\n",
    "\n",
    "def eval(net, test_loader):\n",
    "    all_labels = []\n",
    "    all_predictions = []\n",
    "    with torch.no_grad():\n",
    "        for images, labels in test_loader:\n",
    "            images, labels = images.to(device), labels.to(device)\n",
    "            outputs = net(images)\n",
    "            _, predicted = torch.max(outputs, 1)\n",
    "            all_predictions.extend(predicted.cpu().numpy())\n",
    "            all_labels.extend(labels.cpu().numpy())\n",
    "    return classification_report(all_labels, all_predictions, output_dict=True)\n",
    "\n",
    "\n",
    "def avg_report(reports):\n",
    "    res = {}\n",
    "    for entry in zip(*[r.items() for r in reports]):\n",
    "        if isinstance(entry[0][1], float):\n",
    "            res[entry[0][0]] = sum(t[1] for t in entry) / len(reports)\n",
    "        else:\n",
    "            res[entry[0][0]] = avg_report([t[1] for t in entry])\n",
    "    return res"
   ],
   "id": "9b1a4a9d0b3b3c87",
   "outputs": [],
   "execution_count": 87
  },
  {
   "metadata": {
    "ExecuteTime": {
     "end_time": "2025-07-16T19:25:16.215081Z",
     "start_time": "2025-07-16T19:24:29.899914Z"
    }
   },
   "cell_type": "code",
   "source": [
    "EXPERIMENT_REPEATS = 20\n",
    "\n",
    "train_loader_balanced = DataLoader(train_dataset_balanced, batch_size=batch_size, shuffle=True)\n",
    "test_loader = DataLoader(test_dataset, batch_size=batch_size, shuffle=False)\n",
    "\n",
    "stats = []\n",
    "for _ in range(EXPERIMENT_REPEATS):\n",
    "    net = get_net()\n",
    "    train(net, train_loader_balanced, epochs=num_epochs)\n",
    "    stats.append(eval(net, test_loader))"
   ],
   "id": "ac21bb0df09f2699",
   "outputs": [
    {
     "name": "stderr",
     "output_type": "stream",
     "text": [
      "100%|██████████| 15/15 [00:00<00:00, 15.49it/s]\n",
      "100%|██████████| 15/15 [00:00<00:00, 15.89it/s]\n",
      "100%|██████████| 15/15 [00:00<00:00, 15.62it/s]\n",
      "100%|██████████| 15/15 [00:00<00:00, 15.42it/s]\n",
      "100%|██████████| 15/15 [00:01<00:00, 14.05it/s]\n",
      "100%|██████████| 15/15 [00:01<00:00, 14.93it/s]\n",
      "100%|██████████| 15/15 [00:01<00:00, 14.93it/s]\n",
      "100%|██████████| 15/15 [00:01<00:00, 13.37it/s]\n",
      "100%|██████████| 15/15 [00:00<00:00, 15.04it/s]\n",
      "100%|██████████| 15/15 [00:01<00:00, 14.84it/s]\n",
      "100%|██████████| 15/15 [00:01<00:00, 11.26it/s]\n",
      "100%|██████████| 15/15 [00:01<00:00, 12.87it/s]\n",
      "100%|██████████| 15/15 [00:01<00:00, 14.81it/s]\n",
      "100%|██████████| 15/15 [00:01<00:00, 13.98it/s]\n",
      "100%|██████████| 15/15 [00:01<00:00, 14.33it/s]\n",
      "100%|██████████| 15/15 [00:00<00:00, 16.05it/s]\n",
      "100%|██████████| 15/15 [00:00<00:00, 15.98it/s]\n",
      "100%|██████████| 15/15 [00:01<00:00, 14.68it/s]\n",
      "100%|██████████| 15/15 [00:00<00:00, 15.10it/s]\n",
      "100%|██████████| 15/15 [00:01<00:00, 13.88it/s]\n"
     ]
    }
   ],
   "execution_count": 89
  },
  {
   "metadata": {
    "ExecuteTime": {
     "end_time": "2025-07-16T19:27:15.348104Z",
     "start_time": "2025-07-16T19:27:15.344840Z"
    }
   },
   "cell_type": "code",
   "source": "stats = avg_report(stats)",
   "id": "e2c1ba468b4967c9",
   "outputs": [],
   "execution_count": 90
  },
  {
   "metadata": {
    "ExecuteTime": {
     "end_time": "2025-07-16T19:27:35.470713Z",
     "start_time": "2025-07-16T19:27:35.451330Z"
    }
   },
   "cell_type": "code",
   "source": "pd.DataFrame(stats)",
   "id": "2edc9144e40b0bb9",
   "outputs": [
    {
     "data": {
      "text/plain": [
       "                    0            1            2            3           4  \\\n",
       "precision    0.936353     0.929458     0.860811     0.788146    0.864094   \n",
       "recall       0.921990     0.942159     0.789099     0.842129    0.886660   \n",
       "f1-score     0.928969     0.935721     0.822889     0.813544    0.874834   \n",
       "support    980.000000  1135.000000  1032.000000  1010.000000  982.000000   \n",
       "\n",
       "                    5           6            7           8            9  \\\n",
       "precision    0.819354    0.910480     0.905956    0.773553     0.828178   \n",
       "recall       0.758240    0.893633     0.853648    0.852823     0.846234   \n",
       "f1-score     0.786744    0.901871     0.878772    0.810106     0.836368   \n",
       "support    892.000000  958.000000  1028.000000  974.000000  1009.000000   \n",
       "\n",
       "           accuracy     macro avg  weighted avg  \n",
       "precision    0.8603      0.861638      0.862898  \n",
       "recall       0.8603      0.858661      0.860300  \n",
       "f1-score     0.8603      0.858982      0.860451  \n",
       "support      0.8603  10000.000000  10000.000000  "
      ],
      "text/html": [
       "<div>\n",
       "<style scoped>\n",
       "    .dataframe tbody tr th:only-of-type {\n",
       "        vertical-align: middle;\n",
       "    }\n",
       "\n",
       "    .dataframe tbody tr th {\n",
       "        vertical-align: top;\n",
       "    }\n",
       "\n",
       "    .dataframe thead th {\n",
       "        text-align: right;\n",
       "    }\n",
       "</style>\n",
       "<table border=\"1\" class=\"dataframe\">\n",
       "  <thead>\n",
       "    <tr style=\"text-align: right;\">\n",
       "      <th></th>\n",
       "      <th>0</th>\n",
       "      <th>1</th>\n",
       "      <th>2</th>\n",
       "      <th>3</th>\n",
       "      <th>4</th>\n",
       "      <th>5</th>\n",
       "      <th>6</th>\n",
       "      <th>7</th>\n",
       "      <th>8</th>\n",
       "      <th>9</th>\n",
       "      <th>accuracy</th>\n",
       "      <th>macro avg</th>\n",
       "      <th>weighted avg</th>\n",
       "    </tr>\n",
       "  </thead>\n",
       "  <tbody>\n",
       "    <tr>\n",
       "      <th>precision</th>\n",
       "      <td>0.936353</td>\n",
       "      <td>0.929458</td>\n",
       "      <td>0.860811</td>\n",
       "      <td>0.788146</td>\n",
       "      <td>0.864094</td>\n",
       "      <td>0.819354</td>\n",
       "      <td>0.910480</td>\n",
       "      <td>0.905956</td>\n",
       "      <td>0.773553</td>\n",
       "      <td>0.828178</td>\n",
       "      <td>0.8603</td>\n",
       "      <td>0.861638</td>\n",
       "      <td>0.862898</td>\n",
       "    </tr>\n",
       "    <tr>\n",
       "      <th>recall</th>\n",
       "      <td>0.921990</td>\n",
       "      <td>0.942159</td>\n",
       "      <td>0.789099</td>\n",
       "      <td>0.842129</td>\n",
       "      <td>0.886660</td>\n",
       "      <td>0.758240</td>\n",
       "      <td>0.893633</td>\n",
       "      <td>0.853648</td>\n",
       "      <td>0.852823</td>\n",
       "      <td>0.846234</td>\n",
       "      <td>0.8603</td>\n",
       "      <td>0.858661</td>\n",
       "      <td>0.860300</td>\n",
       "    </tr>\n",
       "    <tr>\n",
       "      <th>f1-score</th>\n",
       "      <td>0.928969</td>\n",
       "      <td>0.935721</td>\n",
       "      <td>0.822889</td>\n",
       "      <td>0.813544</td>\n",
       "      <td>0.874834</td>\n",
       "      <td>0.786744</td>\n",
       "      <td>0.901871</td>\n",
       "      <td>0.878772</td>\n",
       "      <td>0.810106</td>\n",
       "      <td>0.836368</td>\n",
       "      <td>0.8603</td>\n",
       "      <td>0.858982</td>\n",
       "      <td>0.860451</td>\n",
       "    </tr>\n",
       "    <tr>\n",
       "      <th>support</th>\n",
       "      <td>980.000000</td>\n",
       "      <td>1135.000000</td>\n",
       "      <td>1032.000000</td>\n",
       "      <td>1010.000000</td>\n",
       "      <td>982.000000</td>\n",
       "      <td>892.000000</td>\n",
       "      <td>958.000000</td>\n",
       "      <td>1028.000000</td>\n",
       "      <td>974.000000</td>\n",
       "      <td>1009.000000</td>\n",
       "      <td>0.8603</td>\n",
       "      <td>10000.000000</td>\n",
       "      <td>10000.000000</td>\n",
       "    </tr>\n",
       "  </tbody>\n",
       "</table>\n",
       "</div>"
      ]
     },
     "execution_count": 92,
     "metadata": {},
     "output_type": "execute_result"
    }
   ],
   "execution_count": 92
  },
  {
   "metadata": {
    "ExecuteTime": {
     "end_time": "2025-07-16T19:28:56.489560Z",
     "start_time": "2025-07-16T19:28:14.776643Z"
    }
   },
   "cell_type": "code",
   "source": [
    "train_loader_unbalanced = DataLoader(train_dataset_imbalanced, batch_size=batch_size, shuffle=True)\n",
    "\n",
    "stats = []\n",
    "for _ in range(EXPERIMENT_REPEATS):\n",
    "    net = get_net()\n",
    "    train(net, train_loader_unbalanced, epochs=num_epochs)\n",
    "    stats.append(eval(net, test_loader))\n",
    "stats = avg_report(stats)\n",
    "pd.DataFrame(stats)"
   ],
   "id": "f116ab3ad514874b",
   "outputs": [
    {
     "name": "stderr",
     "output_type": "stream",
     "text": [
      "100%|██████████| 15/15 [00:00<00:00, 15.82it/s]\n",
      "100%|██████████| 15/15 [00:00<00:00, 15.97it/s]\n",
      "100%|██████████| 15/15 [00:00<00:00, 15.90it/s]\n",
      "100%|██████████| 15/15 [00:00<00:00, 15.28it/s]\n",
      "100%|██████████| 15/15 [00:00<00:00, 16.02it/s]\n",
      "100%|██████████| 15/15 [00:00<00:00, 15.92it/s]\n",
      "100%|██████████| 15/15 [00:00<00:00, 15.49it/s]\n",
      "100%|██████████| 15/15 [00:00<00:00, 15.12it/s]\n",
      "100%|██████████| 15/15 [00:00<00:00, 15.15it/s]\n",
      "100%|██████████| 15/15 [00:00<00:00, 15.88it/s]\n",
      "100%|██████████| 15/15 [00:00<00:00, 15.87it/s]\n",
      "100%|██████████| 15/15 [00:00<00:00, 15.69it/s]\n",
      "100%|██████████| 15/15 [00:01<00:00, 14.66it/s]\n",
      "100%|██████████| 15/15 [00:00<00:00, 16.23it/s]\n",
      "100%|██████████| 15/15 [00:01<00:00, 13.75it/s]\n",
      "100%|██████████| 15/15 [00:01<00:00, 14.90it/s]\n",
      "100%|██████████| 15/15 [00:00<00:00, 16.11it/s]\n",
      "100%|██████████| 15/15 [00:00<00:00, 15.38it/s]\n",
      "100%|██████████| 15/15 [00:00<00:00, 16.42it/s]\n",
      "100%|██████████| 15/15 [00:00<00:00, 16.14it/s]\n"
     ]
    },
    {
     "data": {
      "text/plain": [
       "                    0            1            2            3           4  \\\n",
       "precision    0.767910     0.889459     0.866157     0.737081    0.792943   \n",
       "recall       0.991276     0.958414     0.781056     0.795594    0.770927   \n",
       "f1-score     0.865232     0.922520     0.820755     0.763951    0.779731   \n",
       "support    980.000000  1135.000000  1032.000000  1010.000000  982.000000   \n",
       "\n",
       "                    5           6            7           8            9  \\\n",
       "precision    0.819030    0.876982     0.897930    0.759974     0.767212   \n",
       "recall       0.650448    0.875418     0.803405    0.738860     0.744995   \n",
       "f1-score     0.723541    0.876042     0.847299    0.747866     0.752968   \n",
       "support    892.000000  958.000000  1028.000000  974.000000  1009.000000   \n",
       "\n",
       "           accuracy     macro avg  weighted avg  \n",
       "precision    0.8142      0.817468      0.818721  \n",
       "recall       0.8142      0.811039      0.814200  \n",
       "f1-score     0.8142      0.809990      0.812313  \n",
       "support      0.8142  10000.000000  10000.000000  "
      ],
      "text/html": [
       "<div>\n",
       "<style scoped>\n",
       "    .dataframe tbody tr th:only-of-type {\n",
       "        vertical-align: middle;\n",
       "    }\n",
       "\n",
       "    .dataframe tbody tr th {\n",
       "        vertical-align: top;\n",
       "    }\n",
       "\n",
       "    .dataframe thead th {\n",
       "        text-align: right;\n",
       "    }\n",
       "</style>\n",
       "<table border=\"1\" class=\"dataframe\">\n",
       "  <thead>\n",
       "    <tr style=\"text-align: right;\">\n",
       "      <th></th>\n",
       "      <th>0</th>\n",
       "      <th>1</th>\n",
       "      <th>2</th>\n",
       "      <th>3</th>\n",
       "      <th>4</th>\n",
       "      <th>5</th>\n",
       "      <th>6</th>\n",
       "      <th>7</th>\n",
       "      <th>8</th>\n",
       "      <th>9</th>\n",
       "      <th>accuracy</th>\n",
       "      <th>macro avg</th>\n",
       "      <th>weighted avg</th>\n",
       "    </tr>\n",
       "  </thead>\n",
       "  <tbody>\n",
       "    <tr>\n",
       "      <th>precision</th>\n",
       "      <td>0.767910</td>\n",
       "      <td>0.889459</td>\n",
       "      <td>0.866157</td>\n",
       "      <td>0.737081</td>\n",
       "      <td>0.792943</td>\n",
       "      <td>0.819030</td>\n",
       "      <td>0.876982</td>\n",
       "      <td>0.897930</td>\n",
       "      <td>0.759974</td>\n",
       "      <td>0.767212</td>\n",
       "      <td>0.8142</td>\n",
       "      <td>0.817468</td>\n",
       "      <td>0.818721</td>\n",
       "    </tr>\n",
       "    <tr>\n",
       "      <th>recall</th>\n",
       "      <td>0.991276</td>\n",
       "      <td>0.958414</td>\n",
       "      <td>0.781056</td>\n",
       "      <td>0.795594</td>\n",
       "      <td>0.770927</td>\n",
       "      <td>0.650448</td>\n",
       "      <td>0.875418</td>\n",
       "      <td>0.803405</td>\n",
       "      <td>0.738860</td>\n",
       "      <td>0.744995</td>\n",
       "      <td>0.8142</td>\n",
       "      <td>0.811039</td>\n",
       "      <td>0.814200</td>\n",
       "    </tr>\n",
       "    <tr>\n",
       "      <th>f1-score</th>\n",
       "      <td>0.865232</td>\n",
       "      <td>0.922520</td>\n",
       "      <td>0.820755</td>\n",
       "      <td>0.763951</td>\n",
       "      <td>0.779731</td>\n",
       "      <td>0.723541</td>\n",
       "      <td>0.876042</td>\n",
       "      <td>0.847299</td>\n",
       "      <td>0.747866</td>\n",
       "      <td>0.752968</td>\n",
       "      <td>0.8142</td>\n",
       "      <td>0.809990</td>\n",
       "      <td>0.812313</td>\n",
       "    </tr>\n",
       "    <tr>\n",
       "      <th>support</th>\n",
       "      <td>980.000000</td>\n",
       "      <td>1135.000000</td>\n",
       "      <td>1032.000000</td>\n",
       "      <td>1010.000000</td>\n",
       "      <td>982.000000</td>\n",
       "      <td>892.000000</td>\n",
       "      <td>958.000000</td>\n",
       "      <td>1028.000000</td>\n",
       "      <td>974.000000</td>\n",
       "      <td>1009.000000</td>\n",
       "      <td>0.8142</td>\n",
       "      <td>10000.000000</td>\n",
       "      <td>10000.000000</td>\n",
       "    </tr>\n",
       "  </tbody>\n",
       "</table>\n",
       "</div>"
      ]
     },
     "execution_count": 93,
     "metadata": {},
     "output_type": "execute_result"
    }
   ],
   "execution_count": 93
  },
  {
   "metadata": {},
   "cell_type": "markdown",
   "source": "As we see, in specific scenarios class imbalance leads to performance downgrade when comparing with dataset of the same size but equal class distribution. However, the recall in case of overrepresented class is lower in balanced scenario.",
   "id": "f9abcef0564592fc"
  },
  {
   "metadata": {
    "ExecuteTime": {
     "end_time": "2025-07-16T19:36:04.326621Z",
     "start_time": "2025-07-16T19:36:04.319460Z"
    }
   },
   "cell_type": "code",
   "source": [
    "indices_ext = [np.where(np.array(train_dataset.targets) == 0)[0][:4100:10]]\n",
    "for i in range(1, 10):\n",
    "    indices_ext.append(np.where(np.array(train_dataset.targets) == i)[0][:5000:500])\n",
    "indices_ext = np.concatenate(indices_ext)\n",
    "train_dataset_unbalanced_ext = Subset(train_dataset, indices_ext)\n",
    "train_loader_unbalanced_ext = DataLoader(train_dataset_unbalanced_ext, batch_size=batch_size, shuffle=True)\n",
    "len(train_dataset_unbalanced_ext)"
   ],
   "id": "faefb07ac92341b3",
   "outputs": [
    {
     "name": "stderr",
     "output_type": "stream",
     "text": [
      "/tmp/ipykernel_19102/1932239961.py:1: DeprecationWarning: __array__ implementation doesn't accept a copy keyword, so passing copy=False failed. __array__ must implement 'dtype' and 'copy' keyword arguments. To learn more, see the migration guide https://numpy.org/devdocs/numpy_2_0_migration_guide.html#adapting-to-changes-in-the-copy-keyword\n",
      "  indices_ext = [np.where(np.array(train_dataset.targets) == 0)[0][:4100:10]]\n",
      "/tmp/ipykernel_19102/1932239961.py:3: DeprecationWarning: __array__ implementation doesn't accept a copy keyword, so passing copy=False failed. __array__ must implement 'dtype' and 'copy' keyword arguments. To learn more, see the migration guide https://numpy.org/devdocs/numpy_2_0_migration_guide.html#adapting-to-changes-in-the-copy-keyword\n",
      "  indices_ext.append(np.where(np.array(train_dataset.targets) == i)[0][:5000:500])\n"
     ]
    },
    {
     "data": {
      "text/plain": [
       "500"
      ]
     },
     "execution_count": 96,
     "metadata": {},
     "output_type": "execute_result"
    }
   ],
   "execution_count": 96
  },
  {
   "metadata": {
    "ExecuteTime": {
     "end_time": "2025-07-16T19:36:51.533890Z",
     "start_time": "2025-07-16T19:36:07.885841Z"
    }
   },
   "cell_type": "code",
   "source": [
    "stats = []\n",
    "for _ in range(EXPERIMENT_REPEATS):\n",
    "    net = get_net()\n",
    "    train(net, train_loader_unbalanced_ext, epochs=num_epochs)\n",
    "    stats.append(eval(net, test_loader))\n",
    "stats = avg_report(stats)\n",
    "pd.DataFrame(stats)"
   ],
   "id": "8080411691152530",
   "outputs": [
    {
     "name": "stderr",
     "output_type": "stream",
     "text": [
      "100%|██████████| 15/15 [00:00<00:00, 15.28it/s]\n",
      "100%|██████████| 15/15 [00:00<00:00, 16.04it/s]\n",
      "100%|██████████| 15/15 [00:00<00:00, 15.37it/s]\n",
      "100%|██████████| 15/15 [00:00<00:00, 16.26it/s]\n",
      "100%|██████████| 15/15 [00:00<00:00, 15.93it/s]\n",
      "100%|██████████| 15/15 [00:00<00:00, 15.88it/s]\n",
      "100%|██████████| 15/15 [00:00<00:00, 15.49it/s]\n",
      "100%|██████████| 15/15 [00:00<00:00, 15.90it/s]\n",
      "100%|██████████| 15/15 [00:00<00:00, 15.73it/s]\n",
      "100%|██████████| 15/15 [00:00<00:00, 15.94it/s]\n",
      "100%|██████████| 15/15 [00:00<00:00, 15.57it/s]\n",
      "100%|██████████| 15/15 [00:00<00:00, 15.55it/s]\n",
      "100%|██████████| 15/15 [00:00<00:00, 15.57it/s]\n",
      "100%|██████████| 15/15 [00:00<00:00, 15.69it/s]\n",
      "100%|██████████| 15/15 [00:00<00:00, 15.10it/s]\n",
      "100%|██████████| 15/15 [00:01<00:00, 11.14it/s]\n",
      "100%|██████████| 15/15 [00:01<00:00, 12.04it/s]\n",
      "100%|██████████| 15/15 [00:01<00:00, 13.03it/s]\n",
      "100%|██████████| 15/15 [00:01<00:00, 12.64it/s]\n",
      "100%|██████████| 15/15 [00:00<00:00, 15.14it/s]\n"
     ]
    },
    {
     "data": {
      "text/plain": [
       "                    0            1            2            3           4  \\\n",
       "precision    0.434724     0.768834     0.828723     0.744925    0.611503   \n",
       "recall       0.997959     0.958943     0.557122     0.614356    0.603157   \n",
       "f1-score     0.604535     0.851609     0.659446     0.670712    0.600033   \n",
       "support    980.000000  1135.000000  1032.000000  1010.000000  982.000000   \n",
       "\n",
       "                    5           6            7           8            9  \\\n",
       "precision    0.862751    0.877502     0.808639    0.699019     0.485100   \n",
       "recall       0.361267    0.580219     0.644747    0.627618     0.498018   \n",
       "f1-score     0.496335    0.695098     0.715710    0.653211     0.486029   \n",
       "support    892.000000  958.000000  1028.000000  974.000000  1009.000000   \n",
       "\n",
       "           accuracy     macro avg  weighted avg  \n",
       "precision  0.650885      0.712172      0.711858  \n",
       "recall     0.650885      0.644341      0.650885  \n",
       "f1-score   0.650885      0.643272      0.647724  \n",
       "support    0.650885  10000.000000  10000.000000  "
      ],
      "text/html": [
       "<div>\n",
       "<style scoped>\n",
       "    .dataframe tbody tr th:only-of-type {\n",
       "        vertical-align: middle;\n",
       "    }\n",
       "\n",
       "    .dataframe tbody tr th {\n",
       "        vertical-align: top;\n",
       "    }\n",
       "\n",
       "    .dataframe thead th {\n",
       "        text-align: right;\n",
       "    }\n",
       "</style>\n",
       "<table border=\"1\" class=\"dataframe\">\n",
       "  <thead>\n",
       "    <tr style=\"text-align: right;\">\n",
       "      <th></th>\n",
       "      <th>0</th>\n",
       "      <th>1</th>\n",
       "      <th>2</th>\n",
       "      <th>3</th>\n",
       "      <th>4</th>\n",
       "      <th>5</th>\n",
       "      <th>6</th>\n",
       "      <th>7</th>\n",
       "      <th>8</th>\n",
       "      <th>9</th>\n",
       "      <th>accuracy</th>\n",
       "      <th>macro avg</th>\n",
       "      <th>weighted avg</th>\n",
       "    </tr>\n",
       "  </thead>\n",
       "  <tbody>\n",
       "    <tr>\n",
       "      <th>precision</th>\n",
       "      <td>0.434724</td>\n",
       "      <td>0.768834</td>\n",
       "      <td>0.828723</td>\n",
       "      <td>0.744925</td>\n",
       "      <td>0.611503</td>\n",
       "      <td>0.862751</td>\n",
       "      <td>0.877502</td>\n",
       "      <td>0.808639</td>\n",
       "      <td>0.699019</td>\n",
       "      <td>0.485100</td>\n",
       "      <td>0.650885</td>\n",
       "      <td>0.712172</td>\n",
       "      <td>0.711858</td>\n",
       "    </tr>\n",
       "    <tr>\n",
       "      <th>recall</th>\n",
       "      <td>0.997959</td>\n",
       "      <td>0.958943</td>\n",
       "      <td>0.557122</td>\n",
       "      <td>0.614356</td>\n",
       "      <td>0.603157</td>\n",
       "      <td>0.361267</td>\n",
       "      <td>0.580219</td>\n",
       "      <td>0.644747</td>\n",
       "      <td>0.627618</td>\n",
       "      <td>0.498018</td>\n",
       "      <td>0.650885</td>\n",
       "      <td>0.644341</td>\n",
       "      <td>0.650885</td>\n",
       "    </tr>\n",
       "    <tr>\n",
       "      <th>f1-score</th>\n",
       "      <td>0.604535</td>\n",
       "      <td>0.851609</td>\n",
       "      <td>0.659446</td>\n",
       "      <td>0.670712</td>\n",
       "      <td>0.600033</td>\n",
       "      <td>0.496335</td>\n",
       "      <td>0.695098</td>\n",
       "      <td>0.715710</td>\n",
       "      <td>0.653211</td>\n",
       "      <td>0.486029</td>\n",
       "      <td>0.650885</td>\n",
       "      <td>0.643272</td>\n",
       "      <td>0.647724</td>\n",
       "    </tr>\n",
       "    <tr>\n",
       "      <th>support</th>\n",
       "      <td>980.000000</td>\n",
       "      <td>1135.000000</td>\n",
       "      <td>1032.000000</td>\n",
       "      <td>1010.000000</td>\n",
       "      <td>982.000000</td>\n",
       "      <td>892.000000</td>\n",
       "      <td>958.000000</td>\n",
       "      <td>1028.000000</td>\n",
       "      <td>974.000000</td>\n",
       "      <td>1009.000000</td>\n",
       "      <td>0.650885</td>\n",
       "      <td>10000.000000</td>\n",
       "      <td>10000.000000</td>\n",
       "    </tr>\n",
       "  </tbody>\n",
       "</table>\n",
       "</div>"
      ]
     },
     "execution_count": 97,
     "metadata": {},
     "output_type": "execute_result"
    }
   ],
   "execution_count": 97
  },
  {
   "metadata": {},
   "cell_type": "code",
   "outputs": [],
   "execution_count": null,
   "source": "",
   "id": "2d7d6837dfafc7db"
  }
 ],
 "metadata": {
  "kernelspec": {
   "display_name": "Python 3",
   "language": "python",
   "name": "python3"
  },
  "language_info": {
   "codemirror_mode": {
    "name": "ipython",
    "version": 2
   },
   "file_extension": ".py",
   "mimetype": "text/x-python",
   "name": "python",
   "nbconvert_exporter": "python",
   "pygments_lexer": "ipython2",
   "version": "2.7.6"
  }
 },
 "nbformat": 4,
 "nbformat_minor": 5
}
